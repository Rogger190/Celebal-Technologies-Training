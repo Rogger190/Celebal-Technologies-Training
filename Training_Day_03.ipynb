{
  "nbformat": 4,
  "nbformat_minor": 0,
  "metadata": {
    "colab": {
      "name": "Training Day-03.ipynb",
      "provenance": []
    },
    "kernelspec": {
      "name": "python3",
      "display_name": "Python 3"
    },
    "language_info": {
      "name": "python"
    }
  },
  "cells": [
    {
      "cell_type": "code",
      "execution_count": 1,
      "metadata": {
        "colab": {
          "base_uri": "https://localhost:8080/"
        },
        "id": "acKAvrbHXf0H",
        "outputId": "47fcef93-d63f-4e50-a7fd-920bf413f591"
      },
      "outputs": [
        {
          "output_type": "stream",
          "name": "stdout",
          "text": [
            "1\n",
            "2\n",
            "3\n",
            "4\n",
            "5\n"
          ]
        }
      ],
      "source": [
        "# Iterating for loop\n",
        "\n",
        "list1 =  [1,2,3,4,5]\n",
        "\n",
        "for i in range(len(list1)):\n",
        "  print(list1[i])"
      ]
    },
    {
      "cell_type": "code",
      "source": [
        "from typing import List\n",
        "# Membership Operator(in, not in)\n",
        "\n",
        "list1 = [\"Pratik\",\"Shridhar\",\"Saurabh\",\"Aniket\",\"Viraj\"]\n",
        "\n",
        "print(\"Pratik\" in list1) # in operator, returns true if the given string is present in the list, else will return false\n",
        "\n",
        "print(\"Sumit\" not in list1) # not in operator, returns true if the given string is not present in the list, else will return false"
      ],
      "metadata": {
        "colab": {
          "base_uri": "https://localhost:8080/"
        },
        "id": "seA4ZqEOZmLu",
        "outputId": "85ba9523-c6df-475a-fd10-5dc05aa9401c"
      },
      "execution_count": 5,
      "outputs": [
        {
          "output_type": "stream",
          "name": "stdout",
          "text": [
            "True\n"
          ]
        }
      ]
    },
    {
      "cell_type": "code",
      "source": [
        "# indexing\n",
        " \n",
        "my_list = [\"Pratik\",\"Shridhar\",\"Saurabh\",\"Aniket\",\"Viraj\"]\n",
        "\n",
        "print(my_list[0]) # this statement will print the element at zeroth position in the list\n",
        "print(my_list[1]) # this statement will print the element at first position in the list\n",
        "print(my_list[2]) # this statement will print the element at second position in the list\n",
        "print(my_list[3]) # this statement will print the element at third position in the list\n",
        "print(my_list[4]) # this statement will print the element at fourth position in the list"
      ],
      "metadata": {
        "colab": {
          "base_uri": "https://localhost:8080/"
        },
        "id": "dLy9CQqakdSB",
        "outputId": "2ecc834c-1900-45af-f729-e0b45fe2c06c"
      },
      "execution_count": 7,
      "outputs": [
        {
          "output_type": "stream",
          "name": "stdout",
          "text": [
            "Pratik\n",
            "Shridhar\n",
            "Saurabh\n",
            "Aniket\n",
            "Viraj\n"
          ]
        }
      ]
    },
    {
      "cell_type": "code",
      "source": [
        "# Negative Indexing\n",
        "\n",
        "my_list = [\"Pratik\",\"Shridhar\",\"Saurabh\",\"Aniket\",\"Viraj\"]\n",
        "\n",
        "print(my_list[-1]) # this statement will print the element at last position in the list\n",
        "print(my_list[-2]) # this statement will print the element at last second position in the list\n",
        "print(my_list[-3]) # this statement will print the element at last third position in the list\n",
        "print(my_list[-4]) # this statement will print the element at last fourth position in the list\n",
        "print(my_list[-5]) # this statement will print the element at last fifth position i.e. first position in the list\n"
      ],
      "metadata": {
        "colab": {
          "base_uri": "https://localhost:8080/"
        },
        "id": "zUDBSAYIpX4M",
        "outputId": "bdd274d0-baee-467d-cd8a-d122dcaa965f"
      },
      "execution_count": 9,
      "outputs": [
        {
          "output_type": "stream",
          "name": "stdout",
          "text": [
            "Viraj\n",
            "Aniket\n",
            "Saurabh\n",
            "Shridhar\n",
            "Pratik\n"
          ]
        }
      ]
    },
    {
      "cell_type": "code",
      "source": [
        "# Slicing\n",
        "\n",
        "my_list = [\"Pratik\",\"Shridhar\",\"Saurabh\",\"Aniket\",\"Viraj\"]\n",
        "\n",
        "print(my_list[1:4]) # This instruction will print the elements from first index to the third index, as the left index of colon is implicit and the right index of colon is explicit hence will print the element till the third index\n",
        "  "
      ],
      "metadata": {
        "colab": {
          "base_uri": "https://localhost:8080/"
        },
        "id": "EgsUawY2p_gG",
        "outputId": "2020d8ac-c8eb-4ff5-d8bd-0d52d4c74082"
      },
      "execution_count": 10,
      "outputs": [
        {
          "output_type": "stream",
          "name": "stdout",
          "text": [
            "['Shridhar', 'Saurabh', 'Aniket']\n"
          ]
        }
      ]
    },
    {
      "cell_type": "code",
      "source": [
        "# Extended Slicing\n",
        "\n",
        "my_list = [\"Pratik\",\"Shridhar\",\"Saurabh\",\"Aniket\",\"Viraj\"]\n",
        "\n",
        "print(my_list[1:4:2]) # This instruction will print the elements from first index till third index, with the difference of two elements"
      ],
      "metadata": {
        "colab": {
          "base_uri": "https://localhost:8080/"
        },
        "id": "n43mZZRUq9F9",
        "outputId": "3975e656-4bba-48f4-a93f-9c0489027b0a"
      },
      "execution_count": 11,
      "outputs": [
        {
          "output_type": "stream",
          "name": "stdout",
          "text": [
            "['Shridhar', 'Aniket']\n"
          ]
        }
      ]
    },
    {
      "cell_type": "code",
      "source": [
        "# Accessing Nested lists using slicing\n",
        "\n",
        "my_list = [\"Pratik\",\"Shridhar\",\"Saurabh\",\"Aniket\",\"Viraj\",[1,2,3,4,5]]\n",
        "\n",
        "my_list_new = my_list[:]\n",
        "\n",
        "my_list_new [2] = \"Shashi\" # This instruction will change the element at 2nd index of the list\n",
        "\n",
        "print(my_list_new)\n",
        "\n",
        "my_list_new [5] [1] = 100 # This instruction will update the 1st element in the nested list at the 5th position of the main list\n",
        "\n",
        "print(my_list_new)\n",
        "\n"
      ],
      "metadata": {
        "colab": {
          "base_uri": "https://localhost:8080/"
        },
        "id": "7d4A7yEFro9q",
        "outputId": "83d1e66b-671c-440a-baaa-dc921080e79b"
      },
      "execution_count": 13,
      "outputs": [
        {
          "output_type": "stream",
          "name": "stdout",
          "text": [
            "['Pratik', 'Shridhar', 'Shashi', 'Aniket', 'Viraj', [1, 2, 3, 4, 5]]\n",
            "['Pratik', 'Shridhar', 'Shashi', 'Aniket', 'Viraj', [1, 100, 3, 4, 5]]\n"
          ]
        }
      ]
    }
  ]
}